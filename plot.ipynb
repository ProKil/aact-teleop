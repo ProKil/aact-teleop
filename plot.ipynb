{
 "cells": [
  {
   "cell_type": "code",
   "execution_count": null,
   "metadata": {},
   "outputs": [],
   "source": [
    "import json\n",
    "import pandas as pd\n",
    "import seaborn as sns\n",
    "from datetime import datetime"
   ]
  },
  {
   "cell_type": "code",
   "execution_count": null,
   "metadata": {},
   "outputs": [],
   "source": [
    "data = []\n",
    "with open(\"recordtest_2024-10-30_17-44-39.jsonl\", \"r\") as file:\n",
    "    for line in file:\n",
    "        data.append(json.loads(line))"
   ]
  },
  {
   "cell_type": "code",
   "execution_count": null,
   "metadata": {},
   "outputs": [],
   "source": [
    "data[0]"
   ]
  },
  {
   "cell_type": "code",
   "execution_count": null,
   "metadata": {},
   "outputs": [],
   "source": [
    "for d in data:\n",
    "    for value, key in enumerate(d[\"data\"]):\n",
    "        d[key] = d[\"data\"][key]\n",
    "    del d[\"data\"]\n",
    "data[0]"
   ]
  },
  {
   "cell_type": "code",
   "execution_count": null,
   "metadata": {},
   "outputs": [],
   "source": [
    "data[1][\"timestamp\"]"
   ]
  },
  {
   "cell_type": "code",
   "execution_count": null,
   "metadata": {},
   "outputs": [],
   "source": [
    "# Example timestamps\n",
    "timestamp1 = \"2024-10-25T11:20:03.294735\"\n",
    "timestamp2 = \"2024-10-25T11:20:03.315138\"\n",
    "\n",
    "# Convert strings to datetime objects\n",
    "time1 = datetime.fromisoformat(timestamp1)\n",
    "time2 = datetime.fromisoformat(timestamp2)\n",
    "\n",
    "# Calculate the time difference\n",
    "time_difference = time2 - time1\n",
    "\n",
    "# Display the time difference\n",
    "print(\"Time difference:\", time_difference)\n",
    "print(\"Total seconds:\", time_difference.total_seconds())"
   ]
  },
  {
   "cell_type": "code",
   "execution_count": null,
   "metadata": {},
   "outputs": [],
   "source": [
    "stretch_data = [x for x in data if x[\"channel\"] == \"stretch_status\"]\n",
    "quest_data = [x for x in data if x[\"channel\"] == \"quest_control\"]\n",
    "\n",
    "print(len(stretch_data))\n",
    "print(len(quest_data))"
   ]
  },
  {
   "cell_type": "code",
   "execution_count": null,
   "metadata": {},
   "outputs": [],
   "source": [
    "for i in range(len(stretch_data) - 1, 0, -1):\n",
    "    curr = data[i]\n",
    "    prev = data[i - 1]\n",
    "    curr_time = datetime.fromisoformat(curr[\"timestamp\"])\n",
    "    prev_time = datetime.fromisoformat(prev[\"timestamp\"])\n",
    "\n",
    "    delta = (prev_time - curr_time).total_seconds()\n",
    "\n",
    "    data[i][\"x_velocity\"] = (curr[\"x\"] - prev[\"x\"]) / delta\n",
    "    data[i][\"y_velocity\"] = (curr[\"y\"] - prev[\"y\"]) / delta\n",
    "    data[i][\"arm_velocity\"] = (curr[\"arm\"] - prev[\"arm\"]) / delta\n",
    "    data[i][\"lift_velocity\"] = (curr[\"lift\"] - prev[\"lift\"]) / delta\n",
    "\n",
    "    data[i][\"theta_velocity\"] = (curr[\"theta\"] - prev[\"theta\"]) / delta\n",
    "    data[i][\"roll_velocity\"] = (curr[\"wrist_roll\"] - prev[\"wrist_roll\"]) / delta\n",
    "    data[i][\"yaw_velocity\"] = (curr[\"wrist_yaw\"] - prev[\"wrist_yaw\"]) / delta\n",
    "    data[i][\"pitch_velocity\"] = (curr[\"wrist_pitch\"] - prev[\"wrist_pitch\"]) / delta\n",
    "    data[i][\"head_tilt_velocity\"] = (curr[\"head_tilt\"] - prev[\"head_tilt\"]) / delta\n",
    "    data[i][\"head_pan_velocity\"] = (curr[\"head_pan\"] - prev[\"head_pan\"]) / delta\n",
    "    data[i][\"gripper_velocity\"] = (\n",
    "        curr[\"stretch_gripper\"] - prev[\"stretch_gripper\"]\n",
    "    ) / delta"
   ]
  },
  {
   "cell_type": "code",
   "execution_count": null,
   "metadata": {},
   "outputs": [],
   "source": [
    "for i in range(len(quest_data) - 1, 0, -1):\n",
    "    curr = data[i]\n",
    "    prev = data[i - 1]\n",
    "    curr_time = datetime.fromisoformat(curr[\"timestamp\"])\n",
    "    prev_time = datetime.fromisoformat(prev[\"timestamp\"])\n",
    "\n",
    "    delta = (prev_time - curr_time).total_seconds()\n",
    "\n",
    "    data[i][\"x_velocity\"] = (curr[\"x\"] - prev[\"x\"]) / delta\n",
    "    data[i][\"y_velocity\"] = (curr[\"y\"] - prev[\"y\"]) / delta\n",
    "    data[i][\"arm_velocity\"] = (curr[\"arm\"] - prev[\"arm\"]) / delta\n",
    "    data[i][\"lift_velocity\"] = (curr[\"lift\"] - prev[\"lift\"]) / delta\n",
    "\n",
    "    data[i][\"theta_velocity\"] = (curr[\"theta\"] - prev[\"theta\"]) / delta\n",
    "    data[i][\"roll_velocity\"] = (curr[\"wrist_roll\"] - prev[\"wrist_roll\"]) / delta\n",
    "    data[i][\"yaw_velocity\"] = (curr[\"wrist_yaw\"] - prev[\"wrist_yaw\"]) / delta\n",
    "    data[i][\"pitch_velocity\"] = (curr[\"wrist_pitch\"] - prev[\"wrist_pitch\"]) / delta\n",
    "    data[i][\"head_tilt_velocity\"] = (curr[\"head_tilt\"] - prev[\"head_tilt\"]) / delta\n",
    "    data[i][\"head_pan_velocity\"] = (curr[\"head_pan\"] - prev[\"head_pan\"]) / delta\n",
    "    data[i][\"gripper_velocity\"] = (\n",
    "        curr[\"stretch_gripper\"] - prev[\"stretch_gripper\"]\n",
    "    ) / delta"
   ]
  },
  {
   "cell_type": "code",
   "execution_count": null,
   "metadata": {},
   "outputs": [],
   "source": [
    "df = pd.DataFrame(stretch_data + quest_data)\n",
    "df[\"timestamp\"] = df[\"timestamp\"].apply(lambda x: datetime.fromisoformat(x))"
   ]
  },
  {
   "cell_type": "code",
   "execution_count": null,
   "metadata": {},
   "outputs": [],
   "source": [
    "df"
   ]
  },
  {
   "cell_type": "code",
   "execution_count": null,
   "metadata": {},
   "outputs": [],
   "source": [
    "velocity_columns = [col for col in df.columns if \"velocity\" in col]\n",
    "df_velocity = df.melt(\n",
    "    id_vars=[\"timestamp\", \"channel\", \"data_type\"],  # Keep these columns as identifiers\n",
    "    value_vars=velocity_columns,  # Columns to be transformed into rows\n",
    "    var_name=\"type\",  # New column name for 'velocity' type\n",
    "    value_name=\"velocity\",  # New column name for the velocity values\n",
    ")\n",
    "\n",
    "# Step 3: Clean the 'type' column to only reflect the velocity type (remove '_velocity' suffix)\n",
    "df_velocity[\"type\"] = df_velocity[\"type\"].str.replace(\"_velocity\", \"\")\n",
    "\n",
    "# Display the result\n",
    "print(df_velocity.head())"
   ]
  },
  {
   "cell_type": "code",
   "execution_count": null,
   "metadata": {},
   "outputs": [],
   "source": [
    "df_velocity.columns\n",
    "df_velocity_filtered = df_velocity[\n",
    "    df_velocity[\"timestamp\"] >= datetime.fromisoformat(\"2024-10-25T11:23:06.353725\")\n",
    "]\n",
    "df_velocity_filtered = df_velocity_filtered[\n",
    "    df_velocity_filtered[\"timestamp\"]\n",
    "    <= datetime.fromisoformat(\"2024-10-25T11:23:27.114610\")\n",
    "]"
   ]
  },
  {
   "cell_type": "code",
   "execution_count": null,
   "metadata": {},
   "outputs": [],
   "source": [
    "sns.lineplot(\n",
    "    data=df_velocity_filtered, x=\"timestamp\", y=\"velocity\", style=\"channel\", hue=\"type\"\n",
    ")"
   ]
  },
  {
   "cell_type": "code",
   "execution_count": null,
   "metadata": {},
   "outputs": [],
   "source": [
    "sns.lineplot(\n",
    "    data=df_velocity_filtered[df_velocity_filtered[\"lift\"] == \"theta\"],\n",
    "    x=\"timestamp\",\n",
    "    y=\"velocity\",\n",
    "    hue=\"channel\",\n",
    ")"
   ]
  }
 ],
 "metadata": {
  "kernelspec": {
   "display_name": "Python python3",
   "language": "python",
   "name": "myenv"
  },
  "language_info": {
   "codemirror_mode": {
    "name": "ipython",
    "version": 3
   },
   "file_extension": ".py",
   "mimetype": "text/x-python",
   "name": "python",
   "nbconvert_exporter": "python",
   "pygments_lexer": "ipython3",
   "version": "3.11.6"
  }
 },
 "nbformat": 4,
 "nbformat_minor": 2
}
